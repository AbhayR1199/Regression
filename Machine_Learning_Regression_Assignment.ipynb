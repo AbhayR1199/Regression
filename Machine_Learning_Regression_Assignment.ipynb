{
  "nbformat": 4,
  "nbformat_minor": 0,
  "metadata": {
    "colab": {
      "provenance": []
    },
    "kernelspec": {
      "name": "python3",
      "display_name": "Python 3"
    },
    "language_info": {
      "name": "python"
    }
  },
  "cells": [
    {
      "cell_type": "code",
      "execution_count": null,
      "metadata": {
        "id": "b9L20D542HFu"
      },
      "outputs": [],
      "source": [
        "# Machine Learning-Regression-Assignment"
      ]
    },
    {
      "cell_type": "markdown",
      "source": [
        "Question 1: What is Simple Linear Regression?"
      ],
      "metadata": {
        "id": "rbWvM7lU3J5C"
      }
    },
    {
      "cell_type": "markdown",
      "source": [
        "Answer:\n",
        "Simple Linear Regression is a statistical method used to model the relationship between two variables:\n",
        "\n",
        "Independent variable (X) → predictor\n",
        "\n",
        "Dependent variable (Y) → response\n",
        "It assumes a linear relationship, represented by the equation:\n",
        "\n",
        "                              Y=β0​+β1​X+ϵ\n",
        "Where:\n",
        "\n",
        "𝛽0= intercept,\n",
        "\n",
        "𝛽1= slope,\n",
        "\n",
        "ϵ = error term."
      ],
      "metadata": {
        "id": "Boiinfnn3KI7"
      }
    },
    {
      "cell_type": "markdown",
      "source": [
        "Question 2: What are the key assumptions of Simple Linear Regression?"
      ],
      "metadata": {
        "id": "eVAoQVXQ3KL1"
      }
    },
    {
      "cell_type": "markdown",
      "source": [
        "Answer:\n",
        "\n",
        "Linearity – Relationship between X and Y is linear.\n",
        "\n",
        "Independence – Observations are independent of each other.\n",
        "\n",
        "Homoscedasticity – Constant variance of errors.\n",
        "\n",
        "Normality of errors – Residuals are normally distributed.\n",
        "\n",
        "No perfect multicollinearity – Not relevant in simple regression (only one X)."
      ],
      "metadata": {
        "id": "8R24oPtu3KOv"
      }
    },
    {
      "cell_type": "markdown",
      "source": [
        "Question 3: What is heteroscedasticity, and why is it important to address in regression models?\n"
      ],
      "metadata": {
        "id": "bdeKCaUN3KRi"
      }
    },
    {
      "cell_type": "markdown",
      "source": [
        "Answer:\n",
        "\n",
        "Heteroscedasticity occurs when the variance of residuals (errors) is not constant across all levels of the independent variable(s).\n",
        "\n",
        "It violates the regression assumption of homoscedasticity.\n",
        "\n",
        "Why important?\n",
        "\n",
        "Leads to inefficient estimates.\n",
        "\n",
        "Standard errors are biased → wrong hypothesis test results.\n",
        "\n",
        "May mislead conclusions about significance."
      ],
      "metadata": {
        "id": "stVmwBhU3K0z"
      }
    },
    {
      "cell_type": "markdown",
      "source": [
        "Question 4: What is Multiple Linear Regression?"
      ],
      "metadata": {
        "id": "jH-pMCJR3K3u"
      }
    },
    {
      "cell_type": "markdown",
      "source": [
        "Answer:\n",
        "Multiple Linear Regression models the relationship between one dependent variable (Y) and two or more independent variables (X1, X2, …, Xn):\n",
        "\n",
        "                          Y=β0​+β1​X1​+β2​X2​+⋯+βn​Xn​+ϵ\n",
        "It allows capturing more complex relationships compared to simple regression."
      ],
      "metadata": {
        "id": "qXMszeQq3K6c"
      }
    },
    {
      "cell_type": "markdown",
      "source": [
        "Question 5: What is polynomial regression, and how does it differ from linear regression?"
      ],
      "metadata": {
        "id": "Ayatz5rA3K9O"
      }
    },
    {
      "cell_type": "markdown",
      "source": [
        "Answer:\n",
        "\n",
        "Polynomial Regression is a type of regression where the relationship between independent variable (X) and dependent variable (Y) is modeled as an nth-degree polynomial.\n",
        "\n",
        "Example for 2nd degree:\n",
        "\n",
        "                              Y=β0​+β1​X+β2​X2+ϵ\n",
        "Difference from Linear Regression:\n",
        "\n",
        "Linear regression fits a straight line.\n",
        "\n",
        "Polynomial regression fits a curve while still being linear in coefficients."
      ],
      "metadata": {
        "id": "V-HGMPF03K_z"
      }
    },
    {
      "cell_type": "markdown",
      "source": [
        "Question 6: Implement a Python program to fit a Simple Linear Regression model to the following sample data:\n",
        "\n",
        "● X = [1, 2, 3, 4, 5]\n",
        "\n",
        "● Y = [2.1, 4.3, 6.1, 7.9, 10.2]\n",
        "\n",
        "Plot the regression line over the data points.\n",
        "\n",
        "(Include your Python code and output in the code box below.)\n"
      ],
      "metadata": {
        "id": "2UAvhxXx3LCf"
      }
    },
    {
      "cell_type": "code",
      "source": [
        "import numpy as np\n",
        "import matplotlib.pyplot as plt\n",
        "from sklearn.linear_model import LinearRegression\n",
        "\n",
        "# Data\n",
        "X = np.array([1, 2, 3, 4, 5]).reshape(-1,1)\n",
        "Y = np.array([2.1, 4.3, 6.1, 7.9, 10.2])\n",
        "\n",
        "# Model\n",
        "model = LinearRegression()\n",
        "model.fit(X, Y)\n",
        "\n",
        "# Predictions\n",
        "Y_pred = model.predict(X)\n",
        "\n",
        "# Plot\n",
        "plt.scatter(X, Y, color='blue', label=\"Data Points\")\n",
        "plt.plot(X, Y_pred, color='red', label=\"Regression Line\")\n",
        "plt.xlabel(\"X\")\n",
        "plt.ylabel(\"Y\")\n",
        "plt.legend()\n",
        "plt.show()\n",
        "\n",
        "print(\"Intercept:\", model.intercept_)\n",
        "print(\"Slope:\", model.coef_[0])\n"
      ],
      "metadata": {
        "colab": {
          "base_uri": "https://localhost:8080/",
          "height": 484
        },
        "id": "ndw5goYO5Zq0",
        "outputId": "c3251b73-e9e5-4055-81b0-f1fdabf915a1"
      },
      "execution_count": 1,
      "outputs": [
        {
          "output_type": "display_data",
          "data": {
            "text/plain": [
              "<Figure size 640x480 with 1 Axes>"
            ],
            "image/png": "[encoded data removed]"
          },
          "metadata": {}
        },
        {
          "output_type": "stream",
          "name": "stdout",
          "text": [
            "Intercept: 0.17999999999999794\n",
            "Slope: 1.9800000000000004\n"
          ]
        }
      ]
    },
    {
      "cell_type": "markdown",
      "source": [
        "Question 7: Fit a Multiple Linear Regression model on this sample data:\n",
        "\n",
        "● Area = [1200, 1500, 1800, 2000]\n",
        "\n",
        "● Rooms = [2, 3, 3, 4]\n",
        "\n",
        "● Price = [250000, 300000, 320000, 370000]\n",
        "\n",
        "Check for multicollinearity using VIF and report the results.\n",
        "\n",
        "(Include your Python code and output in the code box below.)\n"
      ],
      "metadata": {
        "id": "jR1Ojlcp3LKz"
      }
    },
    {
      "cell_type": "code",
      "source": [
        "import pandas as pd\n",
        "import statsmodels.api as sm\n",
        "from statsmodels.stats.outliers_influence import variance_inflation_factor\n",
        "\n",
        "# Data\n",
        "data = pd.DataFrame({\n",
        "    'Area': [1200, 1500, 1800, 2000],\n",
        "    'Rooms': [2, 3, 3, 4],\n",
        "    'Price': [250000, 300000, 320000, 370000]\n",
        "})\n",
        "\n",
        "X = data[['Area', 'Rooms']]\n",
        "y = data['Price']\n",
        "\n",
        "# Add constant\n",
        "X_const = sm.add_constant(X)\n",
        "model = sm.OLS(y, X_const).fit()\n",
        "\n",
        "# VIF calculation\n",
        "vif_data = pd.DataFrame()\n",
        "vif_data[\"Feature\"] = X_const.columns\n",
        "vif_data[\"VIF\"] = [variance_inflation_factor(X_const.values, i) for i in range(X_const.shape[1])]\n",
        "\n",
        "print(model.summary())\n",
        "print(vif_data)\n"
      ],
      "metadata": {
        "colab": {
          "base_uri": "https://localhost:8080/"
        },
        "id": "o99ZVC6J5sdr",
        "outputId": "89228e6d-6162-4401-be09-4292f2642a78"
      },
      "execution_count": 2,
      "outputs": [
        {
          "output_type": "stream",
          "name": "stdout",
          "text": [
            "                            OLS Regression Results                            \n",
            "==============================================================================\n",
            "Dep. Variable:                  Price   R-squared:                       0.999\n",
            "Model:                            OLS   Adj. R-squared:                  0.996\n",
            "Method:                 Least Squares   F-statistic:                     351.0\n",
            "Date:                Sun, 31 Aug 2025   Prob (F-statistic):             0.0377\n",
            "Time:                        11:33:00   Log-Likelihood:                -35.242\n",
            "No. Observations:                   4   AIC:                             76.48\n",
            "Df Residuals:                       1   BIC:                             74.64\n",
            "Df Model:                           2                                         \n",
            "Covariance Type:            nonrobust                                         \n",
            "==============================================================================\n",
            "                 coef    std err          t      P>|t|      [0.025      0.975]\n",
            "------------------------------------------------------------------------------\n",
            "const       1.032e+05   9488.293     10.872      0.058   -1.74e+04    2.24e+05\n",
            "Area          63.1579     14.886      4.243      0.147    -125.992     252.308\n",
            "Rooms       3.474e+04   6381.240      5.444      0.116   -4.63e+04    1.16e+05\n",
            "==============================================================================\n",
            "Omnibus:                          nan   Durbin-Watson:                   2.053\n",
            "Prob(Omnibus):                    nan   Jarque-Bera (JB):                0.554\n",
            "Skew:                          -0.154   Prob(JB):                        0.758\n",
            "Kurtosis:                       1.202   Cond. No.                     1.01e+04\n",
            "==============================================================================\n",
            "\n",
            "Notes:\n",
            "[1] Standard Errors assume that the covariance matrix of the errors is correctly specified.\n",
            "[2] The condition number is large, 1.01e+04. This might indicate that there are\n",
            "strong multicollinearity or other numerical problems.\n",
            "  Feature        VIF\n",
            "0   const  34.210526\n",
            "1    Area   7.736842\n",
            "2   Rooms   7.736842\n"
          ]
        },
        {
          "output_type": "stream",
          "name": "stderr",
          "text": [
            "/usr/local/lib/python3.12/dist-packages/statsmodels/stats/stattools.py:74: ValueWarning: omni_normtest is not valid with less than 8 observations; 4 samples were given.\n",
            "  warn(\"omni_normtest is not valid with less than 8 observations; %i \"\n"
          ]
        }
      ]
    },
    {
      "cell_type": "markdown",
      "source": [
        "Question 8: Implement polynomial regression on the following data:\n",
        "\n",
        "● X = [1, 2, 3, 4, 5]\n",
        "\n",
        "● Y = [2.2, 4.8, 7.5, 11.2, 14.7]\n",
        "\n",
        "Fit a 2nd-degree polynomial and plot the resulting curve.\n",
        "\n",
        "(Include your Python code and output in the code box below.)\n"
      ],
      "metadata": {
        "id": "VIzSdrT63LNi"
      }
    },
    {
      "cell_type": "code",
      "source": [
        "from sklearn.preprocessing import PolynomialFeatures\n",
        "\n",
        "# Data\n",
        "X = np.array([1, 2, 3, 4, 5]).reshape(-1,1)\n",
        "Y = np.array([2.2, 4.8, 7.5, 11.2, 14.7])\n",
        "\n",
        "# Polynomial transformation\n",
        "poly = PolynomialFeatures(degree=2)\n",
        "X_poly = poly.fit_transform(X)\n",
        "\n",
        "# Model\n",
        "model = LinearRegression()\n",
        "model.fit(X_poly, Y)\n",
        "\n",
        "# Predictions\n",
        "X_range = np.linspace(1, 5, 100).reshape(-1,1)\n",
        "Y_pred = model.predict(poly.transform(X_range))\n",
        "\n",
        "# Plot\n",
        "plt.scatter(X, Y, color='blue', label=\"Data Points\")\n",
        "plt.plot(X_range, Y_pred, color='red', label=\"Polynomial Curve\")\n",
        "plt.xlabel(\"X\")\n",
        "plt.ylabel(\"Y\")\n",
        "plt.legend()\n",
        "plt.show()\n"
      ],
      "metadata": {
        "colab": {
          "base_uri": "https://localhost:8080/",
          "height": 449
        },
        "id": "mbuDoKpB6MKV",
        "outputId": "c1577070-8243-4caf-b8d4-7d0a4a236c31"
      },
      "execution_count": 3,
      "outputs": [
        {
          "output_type": "display_data",
          "data": {
            "text/plain": [
              "<Figure size 640x480 with 1 Axes>"
            ],
            "image/png": "[encoded data removed]"
          },
          "metadata": {}
        }
      ]
    },
    {
      "cell_type": "markdown",
      "source": [
        "Question 9: Create a residuals plot for a regression model trained on this data:\n",
        "\n",
        "● X = [10, 20, 30, 40, 50]\n",
        "\n",
        "● Y = [15, 35, 40, 50, 65]\n",
        "\n",
        "Assess heteroscedasticity by examining the spread of residuals.\n",
        "\n",
        "(Include your Python code and output in the code box below.)\n"
      ],
      "metadata": {
        "id": "dOliuZZW3LQU"
      }
    },
    {
      "cell_type": "code",
      "source": [
        "# Data\n",
        "X = np.array([10, 20, 30, 40, 50]).reshape(-1,1)\n",
        "Y = np.array([15, 35, 40, 50, 65])\n",
        "\n",
        "# Model\n",
        "model = LinearRegression()\n",
        "model.fit(X, Y)\n",
        "Y_pred = model.predict(X)\n",
        "\n",
        "# Residuals\n",
        "residuals = Y - Y_pred\n",
        "\n",
        "# Plot residuals\n",
        "plt.scatter(X, residuals, color='purple')\n",
        "plt.axhline(y=0, color='red', linestyle='--')\n",
        "plt.xlabel(\"X\")\n",
        "plt.ylabel(\"Residuals\")\n",
        "plt.title(\"Residuals Plot\")\n",
        "plt.show()\n",
        "\n",
        "print(\"Residuals:\", residuals)\n"
      ],
      "metadata": {
        "colab": {
          "base_uri": "https://localhost:8080/",
          "height": 489
        },
        "id": "iwJzw1rI6a_D",
        "outputId": "6528f0d7-471b-4b07-873e-861ed268b5ef"
      },
      "execution_count": 4,
      "outputs": [
        {
          "output_type": "display_data",
          "data": {
            "text/plain": [
              "<Figure size 640x480 with 1 Axes>"
            ],
            "image/png": "[encoded data removed]"
          },
          "metadata": {}
        },
        {
          "output_type": "stream",
          "name": "stdout",
          "text": [
            "Residuals: [-3.   5.5 -1.  -2.5  1. ]\n"
          ]
        }
      ]
    },
    {
      "cell_type": "markdown",
      "source": [
        "Interpretation:\n",
        "\n",
        "If residuals spread increases with X → heteroscedasticity exists.\n",
        "\n",
        "If spread is constant → homoscedasticity holds."
      ],
      "metadata": {
        "id": "0l5o0pea6s-8"
      }
    },
    {
      "cell_type": "markdown",
      "source": [
        "Question 10: Imagine you are a data scientist working for a real estate company. You need to predict house prices using features like area, number of rooms, and location.\n",
        "However, you detect heteroscedasticity and multicollinearity in your regression\n",
        "model. Explain the steps you would take to address these issues and ensure a robust model.\n"
      ],
      "metadata": {
        "id": "a6pyZGob3LTL"
      }
    },
    {
      "cell_type": "markdown",
      "source": [
        "Answer:\n",
        "To ensure a robust regression model:\n",
        "\n",
        "For Heteroscedasticity:\n",
        "\n",
        "1. Use weighted least squares (WLS) or robust standard errors.\n",
        "2. Apply transformations (e.g., log of dependent variable).\n",
        "3. Use models robust to heteroscedasticity (e.g., tree-based methods).\n",
        "\n",
        "For Multicollinearity:\n",
        "\n",
        "1. Calculate VIF and remove variables with high VIF.\n",
        "2. Use dimensionality reduction (PCA, feature selection).\n",
        "3. Combine correlated features (e.g., “Area per room”).\n",
        "4. Use regularization methods like Ridge or Lasso regression."
      ],
      "metadata": {
        "id": "LsU-tdFd3LXH"
      }
    },
    {
      "cell_type": "markdown",
      "source": [],
      "metadata": {
        "id": "bAlQvwGZ3LZn"
      }
    },
    {
      "cell_type": "markdown",
      "source": [],
      "metadata": {
        "id": "x9hj1DDe3LcL"
      }
    },
    {
      "cell_type": "markdown",
      "source": [],
      "metadata": {
        "id": "aKO3--6Q3Le4"
      }
    },
    {
      "cell_type": "markdown",
      "source": [],
      "metadata": {
        "id": "_9x0RYx-3Lhf"
      }
    }
  ]
}